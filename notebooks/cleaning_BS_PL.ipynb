{
 "cells": [
  {
   "cell_type": "code",
   "execution_count": 2,
   "metadata": {},
   "outputs": [],
   "source": [
    "import pandas as pd\n",
    "import numpy as np"
   ]
  },
  {
   "cell_type": "code",
   "execution_count": 7,
   "metadata": {},
   "outputs": [],
   "source": [
    "BS_h5_path=r'C:\\Users\\Sarv\\Desktop\\vs_code\\Git\\ETL-pipeline\\data\\processed\\balance_sheet_csv\\balance_sheet_table.h5'\n",
    "PL_h5_path=r'C:\\Users\\Sarv\\Desktop\\vs_code\\Git\\ETL-pipeline\\data\\processed\\profit_loss_csv\\profit_loss_table.h5'\n",
    "\n",
    "BS_h5=pd.read_hdf(BS_h5_path)\n",
    "PL_h5=pd.read_hdf(PL_h5_path)"
   ]
  },
  {
   "cell_type": "code",
   "execution_count": 26,
   "metadata": {},
   "outputs": [],
   "source": [
    "def clean_dtypes(df):\n",
    "    df.value=df.value.astype(str).str.replace('\\((.*)\\)', '-\\\\1')\n",
    "    df.value=df.value.str.replace(',','')\n",
    "    df.drop(df[df.value=='1398/12/29'].index,inplace=True)\n",
    "    df.drop(df[df.value=='1399/12/30'].index,inplace=True)\n",
    "    df.value=df.value.astype(np.int64)\n",
    "    df.to_hdf(BS_h5_path,key='balance_sheet_table',format='table')\n",
    "    return  df"
   ]
  },
  {
   "cell_type": "code",
   "execution_count": 10,
   "metadata": {},
   "outputs": [],
   "source": [
    "def clean_dtypes_PL(df):\n",
    "    df.value=df.value.astype(str).str.replace('\\((.*)\\)', '-\\\\1')\n",
    "    df.value=df.value.str.replace(',','')\n",
    "    df.value=df.value.replace('--',np.nan)\n",
    "    df.value=df.value.astype(float)\n",
    "    df.to_hdf(PL_h5_path,key='profit_loss_table',format='table')\n",
    "    return  df"
   ]
  }
 ],
 "metadata": {
  "interpreter": {
   "hash": "003b2fc38b62fba6fa954f099c4b48968b501a594e089ab9abfac6da24415187"
  },
  "kernelspec": {
   "display_name": "Python 3.10.0 64-bit",
   "language": "python",
   "name": "python3"
  },
  "language_info": {
   "codemirror_mode": {
    "name": "ipython",
    "version": 3
   },
   "file_extension": ".py",
   "mimetype": "text/x-python",
   "name": "python",
   "nbconvert_exporter": "python",
   "pygments_lexer": "ipython3",
   "version": "3.10.0"
  },
  "orig_nbformat": 4
 },
 "nbformat": 4,
 "nbformat_minor": 2
}
