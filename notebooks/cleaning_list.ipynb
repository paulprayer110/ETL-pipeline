{
 "cells": [
  {
   "cell_type": "code",
   "execution_count": 1,
   "metadata": {},
   "outputs": [],
   "source": [
    "import pandas as pd\n",
    "from persiantools import characters\n",
    "from glob import glob"
   ]
  },
  {
   "cell_type": "code",
   "execution_count": 2,
   "metadata": {},
   "outputs": [],
   "source": [
    "path_raw = r'C:\\Users\\Sarv\\Desktop\\vs_code\\Git\\ETL-pipeline\\data\\external\\security_info.csv'"
   ]
  },
  {
   "cell_type": "code",
   "execution_count": 111,
   "metadata": {},
   "outputs": [],
   "source": [
    "def clean_cols(df):\n",
    "    dropped_cols = ['code_stock_5','code_company_4','stock_name_2','trade_purpose',\n",
    "                    'CEO','address','phone_number','FAX','offic_address','shareholder_affairs_address',\n",
    "                    'website','email','auditor','capital','financial_manager']\n",
    "\n",
    "    new_cols=['stock_code','company_name_en','company_name_fa','namad','stock_name',\n",
    "              'company_code','market','code_tablo','sector_code','sector_name','subsector_code',\n",
    "              'subsector_name','stock_tsetmc_code','financial_year','national_id']\n",
    "    df.drop(columns=dropped_cols,inplace=True)\n",
    "    df.market=df.market.replace(\"-\",None)\n",
    "    df.year=df.year.replace(\"--/--\",None)\n",
    "    df.shenaseh_meli=df.shenaseh_meli.astype(str).apply(lambda x: x.split('.')[0])\n",
    "    df.shenaseh_meli.replace('nan',None, inplace=True)\n",
    "    df.columns=new_cols\n",
    "    df.insert(0,'security_id',df['national_id'].fillna(df['stock_tsetmc_code']))\n",
    "    df.drop_duplicates(inplace=True)\n",
    "    df.reset_index(inplace=True,drop=True)\n",
    "    return df"
   ]
  },
  {
   "cell_type": "code",
   "execution_count": 4,
   "metadata": {},
   "outputs": [],
   "source": [
    "def ar_to_fa(df):\n",
    "    fa_cols = ['company_name_fa','namad','stock_name',\n",
    "            'sector_name','subsector_name']\n",
    "    df[fa_cols]=df[fa_cols].applymap(lambda x: characters.ar_to_fa(x))\n",
    "    return df"
   ]
  },
  {
   "cell_type": "code",
   "execution_count": 47,
   "metadata": {},
   "outputs": [],
   "source": [
    "def security_type(df):\n",
    "    Tese = df[(df['code_tablo']==4)&((df['stock_name'].str.contains('تسه'))|(df['stock_name'].str.contains('تمل')))]\n",
    "    Sandogh = df[(df['code_tablo']==4)&((df['company_name_fa'].str.contains('صندوق'))|(df['company_name_fa'].str.contains('خصو'))|(df['company_name_fa'].str.contains('ص سرمايه گذا'))|(df['company_name_fa'].str.contains('ص.س. زمين')))]\n",
    "    Akhza = df[(df['code_tablo']==4)&(df['company_name_fa'].str.contains('اسناد'))]\n",
    "    Govahi_Kala = df[(df['code_tablo']==4)&(df['market'].str.contains('کالا'))&(df['company_name_fa'].str.contains('صندوق')==False)]\n",
    "    Arad = df[(df['code_tablo']==4)&(df['namad'].str.contains('اراد'))]\n",
    "    Afad = df[(df['code_tablo']==4)&(df['namad'].str.contains('افاد'))]\n",
    "    Jasourane = df[(df['code_tablo']==4)&((df['company_name_fa'].str.contains('جسورانه'))|(df['company_name_fa'].str.contains('ص.س.ج')))]\n",
    "    Sukuk = df[df['code_tablo']==9]\n",
    "    Option = df[df['code_tablo']==8]\n",
    "    Hagh_Taghadom=df[(df['namad'].str.endswith('ح'))|(df['namad'].str.startswith('ح.'))|(df['namad'].str.startswith('ح .'))]\n",
    "    Stock = df[~df.isin(pd.concat([Tese,Sandogh,Akhza,Govahi_Kala,Arad,Afad,Jasourane,Sukuk,Option,Hagh_Taghadom]))].dropna(how='all')\n",
    "\n",
    "    df.insert(5,'security_type',None)\n",
    "    df['security_type'].loc[Tese.index]='اوراق تسهیلات مسکن'\n",
    "    df['security_type'].loc[Sandogh.index]='صندوق سرمایه گذاری'\n",
    "    df['security_type'].loc[Akhza.index]='اسناد خزانه اسلامی'\n",
    "    df['security_type'].loc[Govahi_Kala.index]='گواهی سپرده کالایی'\n",
    "    df['security_type'].loc[Arad.index]='اوراق مرابحه عام دولت'\n",
    "    df['security_type'].loc[Afad.index]='اوراق منفعت دولت'\n",
    "    df['security_type'].loc[Jasourane.index]='صندوق جسورانه'\n",
    "    df['security_type'].loc[Sukuk.index]='صکوک شرکتی و گام'\n",
    "    df['security_type'].loc[Option.index]='اختیار معامله'\n",
    "    df['security_type'].loc[Hagh_Taghadom.index]='حق تقدم'\n",
    "    df['security_type'].loc[Stock.index]='سهام'\n",
    "    \n",
    "    return df\n"
   ]
  },
  {
   "cell_type": "code",
   "execution_count": 136,
   "metadata": {},
   "outputs": [
    {
     "name": "stderr",
     "output_type": "stream",
     "text": [
      "C:\\Users\\Sarv\\AppData\\Local\\Temp\\ipykernel_16976\\3052870207.py:15: SettingWithCopyWarning: \n",
      "A value is trying to be set on a copy of a slice from a DataFrame\n",
      "\n",
      "See the caveats in the documentation: https://pandas.pydata.org/pandas-docs/stable/user_guide/indexing.html#returning-a-view-versus-a-copy\n",
      "  df['security_type'].loc[Tese.index]='اوراق تسهیلات مسکن'\n",
      "C:\\Users\\Sarv\\AppData\\Local\\Temp\\ipykernel_16976\\3052870207.py:16: SettingWithCopyWarning: \n",
      "A value is trying to be set on a copy of a slice from a DataFrame\n",
      "\n",
      "See the caveats in the documentation: https://pandas.pydata.org/pandas-docs/stable/user_guide/indexing.html#returning-a-view-versus-a-copy\n",
      "  df['security_type'].loc[Sandogh.index]='صندوق سرمایه گذاری'\n",
      "C:\\Users\\Sarv\\AppData\\Local\\Temp\\ipykernel_16976\\3052870207.py:17: SettingWithCopyWarning: \n",
      "A value is trying to be set on a copy of a slice from a DataFrame\n",
      "\n",
      "See the caveats in the documentation: https://pandas.pydata.org/pandas-docs/stable/user_guide/indexing.html#returning-a-view-versus-a-copy\n",
      "  df['security_type'].loc[Akhza.index]='اسناد خزانه اسلامی'\n",
      "C:\\Users\\Sarv\\AppData\\Local\\Temp\\ipykernel_16976\\3052870207.py:18: SettingWithCopyWarning: \n",
      "A value is trying to be set on a copy of a slice from a DataFrame\n",
      "\n",
      "See the caveats in the documentation: https://pandas.pydata.org/pandas-docs/stable/user_guide/indexing.html#returning-a-view-versus-a-copy\n",
      "  df['security_type'].loc[Govahi_Kala.index]='گواهی سپرده کالایی'\n",
      "C:\\Users\\Sarv\\AppData\\Local\\Temp\\ipykernel_16976\\3052870207.py:19: SettingWithCopyWarning: \n",
      "A value is trying to be set on a copy of a slice from a DataFrame\n",
      "\n",
      "See the caveats in the documentation: https://pandas.pydata.org/pandas-docs/stable/user_guide/indexing.html#returning-a-view-versus-a-copy\n",
      "  df['security_type'].loc[Arad.index]='اوراق مرابحه عام دولت'\n",
      "C:\\Users\\Sarv\\AppData\\Local\\Temp\\ipykernel_16976\\3052870207.py:20: SettingWithCopyWarning: \n",
      "A value is trying to be set on a copy of a slice from a DataFrame\n",
      "\n",
      "See the caveats in the documentation: https://pandas.pydata.org/pandas-docs/stable/user_guide/indexing.html#returning-a-view-versus-a-copy\n",
      "  df['security_type'].loc[Afad.index]='اوراق منفعت دولت'\n",
      "C:\\Users\\Sarv\\AppData\\Local\\Temp\\ipykernel_16976\\3052870207.py:21: SettingWithCopyWarning: \n",
      "A value is trying to be set on a copy of a slice from a DataFrame\n",
      "\n",
      "See the caveats in the documentation: https://pandas.pydata.org/pandas-docs/stable/user_guide/indexing.html#returning-a-view-versus-a-copy\n",
      "  df['security_type'].loc[Jasourane.index]='صندوق جسورانه'\n",
      "C:\\Users\\Sarv\\AppData\\Local\\Temp\\ipykernel_16976\\3052870207.py:22: SettingWithCopyWarning: \n",
      "A value is trying to be set on a copy of a slice from a DataFrame\n",
      "\n",
      "See the caveats in the documentation: https://pandas.pydata.org/pandas-docs/stable/user_guide/indexing.html#returning-a-view-versus-a-copy\n",
      "  df['security_type'].loc[Sukuk.index]='صکوک شرکتی و گام'\n",
      "C:\\Users\\Sarv\\AppData\\Local\\Temp\\ipykernel_16976\\3052870207.py:23: SettingWithCopyWarning: \n",
      "A value is trying to be set on a copy of a slice from a DataFrame\n",
      "\n",
      "See the caveats in the documentation: https://pandas.pydata.org/pandas-docs/stable/user_guide/indexing.html#returning-a-view-versus-a-copy\n",
      "  df['security_type'].loc[Option.index]='اختیار معامله'\n",
      "C:\\Users\\Sarv\\AppData\\Local\\Temp\\ipykernel_16976\\3052870207.py:24: SettingWithCopyWarning: \n",
      "A value is trying to be set on a copy of a slice from a DataFrame\n",
      "\n",
      "See the caveats in the documentation: https://pandas.pydata.org/pandas-docs/stable/user_guide/indexing.html#returning-a-view-versus-a-copy\n",
      "  df['security_type'].loc[Hagh_Taghadom.index]='حق تقدم'\n",
      "C:\\Users\\Sarv\\AppData\\Local\\Temp\\ipykernel_16976\\3052870207.py:25: SettingWithCopyWarning: \n",
      "A value is trying to be set on a copy of a slice from a DataFrame\n",
      "\n",
      "See the caveats in the documentation: https://pandas.pydata.org/pandas-docs/stable/user_guide/indexing.html#returning-a-view-versus-a-copy\n",
      "  df['security_type'].loc[Stock.index]='سهام'\n"
     ]
    }
   ],
   "source": [
    "df=pd.read_csv(path_raw)\n",
    "df.pipe(clean_cols).pipe(ar_to_fa).pipe(security_type)\n",
    "df.iloc[809,0]='10101924696-2'\n",
    "df.iloc[802,0]='10101634157-2'\n",
    "df.iloc[475,0]='10102989222'\n",
    "df.to_csv(r'C:\\Users\\Sarv\\Desktop\\vs_code\\Git\\ETL-pipeline\\data\\interim\\security_info_mod.csv',index=False)"
   ]
  }
 ],
 "metadata": {
  "interpreter": {
   "hash": "003b2fc38b62fba6fa954f099c4b48968b501a594e089ab9abfac6da24415187"
  },
  "kernelspec": {
   "display_name": "Python 3.10.0 64-bit",
   "language": "python",
   "name": "python3"
  },
  "language_info": {
   "codemirror_mode": {
    "name": "ipython",
    "version": 3
   },
   "file_extension": ".py",
   "mimetype": "text/x-python",
   "name": "python",
   "nbconvert_exporter": "python",
   "pygments_lexer": "ipython3",
   "version": "3.10.0"
  },
  "orig_nbformat": 4
 },
 "nbformat": 4,
 "nbformat_minor": 2
}
